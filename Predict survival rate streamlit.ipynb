{
 "cells": [
  {
   "cell_type": "markdown",
   "metadata": {},
   "source": [
    "# Predict titanic survival rate"
   ]
  },
  {
   "cell_type": "code",
   "execution_count": 13,
   "metadata": {},
   "outputs": [],
   "source": [
    "import pickle\n",
    "import numpy as np\n",
    "import streamlit as st\n",
    "import pandas as pd"
   ]
  },
  {
   "cell_type": "code",
   "execution_count": 14,
   "metadata": {},
   "outputs": [],
   "source": [
    "# load the model from disk\n",
    "loaded_model = pickle.load(open('Streamlit_Titanic.pkl', 'rb'))"
   ]
  },
  {
   "cell_type": "code",
   "execution_count": 15,
   "metadata": {},
   "outputs": [
    {
     "data": {
      "text/plain": [
       "<streamlit.DeltaGenerator.DeltaGenerator at 0x1daeea37288>"
      ]
     },
     "execution_count": 15,
     "metadata": {},
     "output_type": "execute_result"
    },
    {
     "data": {
      "text/plain": [
       "<streamlit.DeltaGenerator.DeltaGenerator at 0x1daeea37288>"
      ]
     },
     "execution_count": 15,
     "metadata": {},
     "output_type": "execute_result"
    }
   ],
   "source": [
    "# Creating the Titles and Image\n",
    "\n",
    "st.title(\"Predict passenger survival rate\")\n",
    "st.header(\"Predicting if a passenger would survive the titanic disaster based on a few attributes\")"
   ]
  },
  {
   "cell_type": "code",
   "execution_count": 16,
   "metadata": {},
   "outputs": [],
   "source": [
    "# create the dropdown menus for input fields\n",
    "\n",
    "DropDown1 = pd.DataFrame({'Sex': ['Male', 'Female']})\n",
    "DropDown2 = pd.DataFrame({'Passenger class': ['1', '2', '3'],\n",
    "                          'Port of Embark': ['Cherbourg','Queenstown','Southampton']})\n"
   ]
  },
  {
   "cell_type": "code",
   "execution_count": 17,
   "metadata": {},
   "outputs": [],
   "source": [
    "# take user inputs\n",
    "\n",
    "Age = st.number_input('Age')\n",
    "Fare = st.number_input('Fare')\n",
    "\n",
    "Pclass = st.selectbox('Passanger Class',DropDown2['Passenger class'].unique())\n",
    "temp_Sex = st.selectbox('Gender',DropDown1['Sex'].unique())\n",
    "temp_Embarked = st.selectbox('Port of Embark', DropDown2['Port of Embark'].unique())\n",
    "\n",
    "if temp_Sex == 'Male':\n",
    "    Sex = 1\n",
    "else:\n",
    "    Sex = 0\n",
    "\n",
    "if temp_Embarked == 'Cherbourg':\n",
    "    Embarked = 1\n",
    "else:\n",
    "    if temp_Embarked == 'Queenstown':\n",
    "        Embarked = 2\n",
    "    else:\n",
    "        Embarked = 3"
   ]
  },
  {
   "cell_type": "code",
   "execution_count": 18,
   "metadata": {},
   "outputs": [],
   "source": [
    "# store the inputs\n",
    "features = [Age, Fare, Pclass, Sex, Embarked]\n",
    "\n",
    "# convert user inputs into an array for the model\n",
    "int_features = [int(x) for x in features]\n",
    "final_features = [np.array(int_features)]\n",
    "\n",
    "if st.button('Predict'):\n",
    "    prediction = loaded_model.predict(final_features)\n",
    "    st.balloons()\n",
    "    if round(prediction[0],2) == 0:\n",
    "        st.success('Unfortunately this passenger will not survive.')\n",
    "    else:\n",
    "        st.success('Luckily this passenger will survive.')"
   ]
  },
  {
   "cell_type": "code",
   "execution_count": null,
   "metadata": {},
   "outputs": [],
   "source": [
    "# save the notebook with python file extension on  \n",
    "# C folder with name 'streamlitpredictsurvivalrate'"
   ]
  }
 ],
 "metadata": {
  "kernelspec": {
   "display_name": "Python 3",
   "language": "python",
   "name": "python3"
  },
  "language_info": {
   "codemirror_mode": {
    "name": "ipython",
    "version": 3
   },
   "file_extension": ".py",
   "mimetype": "text/x-python",
   "name": "python",
   "nbconvert_exporter": "python",
   "pygments_lexer": "ipython3",
   "version": "3.7.6"
  }
 },
 "nbformat": 4,
 "nbformat_minor": 2
}
